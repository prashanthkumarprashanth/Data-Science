{
  "nbformat": 4,
  "nbformat_minor": 0,
  "metadata": {
    "colab": {
      "provenance": [],
      "mount_file_id": "11OzIJRzrblN1ScqNvMWNXUpGvUks4nTV",
      "authorship_tag": "ABX9TyNmJOsaMAcXNsxXhMkyUn7s",
      "include_colab_link": true
    },
    "kernelspec": {
      "name": "python3",
      "display_name": "Python 3"
    },
    "language_info": {
      "name": "python"
    }
  },
  "cells": [
    {
      "cell_type": "markdown",
      "metadata": {
        "id": "view-in-github",
        "colab_type": "text"
      },
      "source": [
        "<a href=\"https://colab.research.google.com/github/prashanthkumarprashanth/Data-Science/blob/main/TextProcessing.ipynb\" target=\"_parent\"><img src=\"https://colab.research.google.com/assets/colab-badge.svg\" alt=\"Open In Colab\"/></a>"
      ]
    },
    {
      "cell_type": "markdown",
      "source": [
        "**Text processing with python**\n"
      ],
      "metadata": {
        "id": "c7Ql0OeP3g-c"
      }
    },
    {
      "cell_type": "code",
      "source": [
        "#Reading the txt file\n",
        "fd=open('covid.txt','r')\n",
        "txt=fd.read()"
      ],
      "metadata": {
        "id": "x5cmoBh53kTY"
      },
      "execution_count": 12,
      "outputs": []
    },
    {
      "cell_type": "code",
      "source": [
        "#printing the un processed text data\n",
        "txt"
      ],
      "metadata": {
        "colab": {
          "base_uri": "https://localhost:8080/",
          "height": 139
        },
        "id": "GyFkAOiv5L1d",
        "outputId": "e44338b5-0fcc-4125-f413-66ed5d06348c"
      },
      "execution_count": 14,
      "outputs": [
        {
          "output_type": "execute_result",
          "data": {
            "text/plain": [
              "\"Coronavirus disease 2019 (COVID-19) is a contagious disease caused by severe acute respiratory syndrome coronavirus 2 (SARS-CoV-2). The first known case was identified in Wuhan, China, in December 2019.[7] The disease has since spread worldwide, leading to an ongoing pandemic.[8]\\n\\nSymptoms of COVID-19 are variable, but often include fever,[9] cough, headache,[10] fatigue, breathing difficulties, and loss of smell and taste.[11][12][13] Symptoms may begin one to fourteen days after exposure to the virus. At least a third of people who are infected do not develop noticeable symptoms.[14] Of those people who develop symptoms noticeable enough to be classed as patients, most (81%) develop mild to moderate symptoms (up to mild pneumonia), while 14% develop severe symptoms (dyspnea, hypoxia, or more than 50% lung involvement on imaging), and 5% suffer critical symptoms (respiratory failure, shock, or multi-organ dysfunction).[15] Older people are at a higher risk of developing severe symptoms. Some people continue to experience a range of effects (long COVID) for months after recovery, and damage to organs has been observed.[16] Multi-year studies are underway to further investigate the long-term effects of the disease.[16]\\n\\nCOVID-19 transmits when people breathe in air contaminated by droplets and small airborne particles containing the virus. The risk of breathing these in is highest when people are in close proximity, but they can be inhaled over longer distances, particularly indoors. Transmission can also occur if splashed or sprayed with contaminated fluids in the eyes, nose or mouth, and, rarely, via contaminated surfaces. People remain contagious for up to 20 days, and can spread the virus even if they do not develop symptoms.[17][18]\\n\\nSeveral testing methods have been developed to diagnose the disease. The standard diagnostic method is by detection of the virus' nucleic acid by real-time reverse transcription polymerase chain reaction (rRT-PCR), transcription-mediated amplification (TMA), or by reverse transcription loop-mediated isothermal amplification (RT-LAMP) from a nasopharyngeal swab.\\n\\nPreventive measures include physical or social distancing, quarantining, ventilation of indoor spaces, covering coughs and sneezes, hand washing, and keeping unwashed hands away from the face. The use of face masks or coverings has been recommended in public settings to minimise the risk of transmissions.\\n\\nWhile work is underway to develop drugs that inhibit the virus (and several vaccines for it have been approved and distributed in various countries, which have since initiated mass vaccination campaigns), the primary treatment is symptomatic. Management involves the treatment of symptoms, supportive care, isolation, and experimental measures.\""
            ],
            "application/vnd.google.colaboratory.intrinsic+json": {
              "type": "string"
            }
          },
          "metadata": {},
          "execution_count": 14
        }
      ]
    },
    {
      "cell_type": "markdown",
      "source": [
        "#paragraphs\n"
      ],
      "metadata": {
        "id": "J2YWzvaV5cPG"
      }
    },
    {
      "cell_type": "code",
      "source": [
        "p=txt.split('\\n\\n')\n",
        "print(p)\n",
        "print(type(p))\n",
        "print(len(p))"
      ],
      "metadata": {
        "colab": {
          "base_uri": "https://localhost:8080/"
        },
        "id": "BRrrARGP5n2q",
        "outputId": "462e65c8-db88-4714-8b61-759c5947ccb7"
      },
      "execution_count": 17,
      "outputs": [
        {
          "output_type": "stream",
          "name": "stdout",
          "text": [
            "['Coronavirus disease 2019 (COVID-19) is a contagious disease caused by severe acute respiratory syndrome coronavirus 2 (SARS-CoV-2). The first known case was identified in Wuhan, China, in December 2019.[7] The disease has since spread worldwide, leading to an ongoing pandemic.[8]', 'Symptoms of COVID-19 are variable, but often include fever,[9] cough, headache,[10] fatigue, breathing difficulties, and loss of smell and taste.[11][12][13] Symptoms may begin one to fourteen days after exposure to the virus. At least a third of people who are infected do not develop noticeable symptoms.[14] Of those people who develop symptoms noticeable enough to be classed as patients, most (81%) develop mild to moderate symptoms (up to mild pneumonia), while 14% develop severe symptoms (dyspnea, hypoxia, or more than 50% lung involvement on imaging), and 5% suffer critical symptoms (respiratory failure, shock, or multi-organ dysfunction).[15] Older people are at a higher risk of developing severe symptoms. Some people continue to experience a range of effects (long COVID) for months after recovery, and damage to organs has been observed.[16] Multi-year studies are underway to further investigate the long-term effects of the disease.[16]', 'COVID-19 transmits when people breathe in air contaminated by droplets and small airborne particles containing the virus. The risk of breathing these in is highest when people are in close proximity, but they can be inhaled over longer distances, particularly indoors. Transmission can also occur if splashed or sprayed with contaminated fluids in the eyes, nose or mouth, and, rarely, via contaminated surfaces. People remain contagious for up to 20 days, and can spread the virus even if they do not develop symptoms.[17][18]', \"Several testing methods have been developed to diagnose the disease. The standard diagnostic method is by detection of the virus' nucleic acid by real-time reverse transcription polymerase chain reaction (rRT-PCR), transcription-mediated amplification (TMA), or by reverse transcription loop-mediated isothermal amplification (RT-LAMP) from a nasopharyngeal swab.\", 'Preventive measures include physical or social distancing, quarantining, ventilation of indoor spaces, covering coughs and sneezes, hand washing, and keeping unwashed hands away from the face. The use of face masks or coverings has been recommended in public settings to minimise the risk of transmissions.', 'While work is underway to develop drugs that inhibit the virus (and several vaccines for it have been approved and distributed in various countries, which have since initiated mass vaccination campaigns), the primary treatment is symptomatic. Management involves the treatment of symptoms, supportive care, isolation, and experimental measures.']\n",
            "<class 'list'>\n",
            "6\n"
          ]
        }
      ]
    },
    {
      "cell_type": "markdown",
      "source": [
        " **Lines**"
      ],
      "metadata": {
        "id": "OJUAyBcs53Yt"
      }
    },
    {
      "cell_type": "code",
      "source": [
        "l=txt.split(',')\n",
        "print(l)\n",
        "print(len(l))\n",
        "print(len(l[:-1]))"
      ],
      "metadata": {
        "colab": {
          "base_uri": "https://localhost:8080/"
        },
        "id": "d8veCnaz6CsV",
        "outputId": "6e19b03f-b1f0-4b44-eeac-13d67bf6a77d"
      },
      "execution_count": 20,
      "outputs": [
        {
          "output_type": "stream",
          "name": "stdout",
          "text": [
            "['Coronavirus disease 2019 (COVID-19) is a contagious disease caused by severe acute respiratory syndrome coronavirus 2 (SARS-CoV-2). The first known case was identified in Wuhan', ' China', ' in December 2019.[7] The disease has since spread worldwide', ' leading to an ongoing pandemic.[8]\\n\\nSymptoms of COVID-19 are variable', ' but often include fever', '[9] cough', ' headache', '[10] fatigue', ' breathing difficulties', ' and loss of smell and taste.[11][12][13] Symptoms may begin one to fourteen days after exposure to the virus. At least a third of people who are infected do not develop noticeable symptoms.[14] Of those people who develop symptoms noticeable enough to be classed as patients', ' most (81%) develop mild to moderate symptoms (up to mild pneumonia)', ' while 14% develop severe symptoms (dyspnea', ' hypoxia', ' or more than 50% lung involvement on imaging)', ' and 5% suffer critical symptoms (respiratory failure', ' shock', ' or multi-organ dysfunction).[15] Older people are at a higher risk of developing severe symptoms. Some people continue to experience a range of effects (long COVID) for months after recovery', ' and damage to organs has been observed.[16] Multi-year studies are underway to further investigate the long-term effects of the disease.[16]\\n\\nCOVID-19 transmits when people breathe in air contaminated by droplets and small airborne particles containing the virus. The risk of breathing these in is highest when people are in close proximity', ' but they can be inhaled over longer distances', ' particularly indoors. Transmission can also occur if splashed or sprayed with contaminated fluids in the eyes', ' nose or mouth', ' and', ' rarely', ' via contaminated surfaces. People remain contagious for up to 20 days', \" and can spread the virus even if they do not develop symptoms.[17][18]\\n\\nSeveral testing methods have been developed to diagnose the disease. The standard diagnostic method is by detection of the virus' nucleic acid by real-time reverse transcription polymerase chain reaction (rRT-PCR)\", ' transcription-mediated amplification (TMA)', ' or by reverse transcription loop-mediated isothermal amplification (RT-LAMP) from a nasopharyngeal swab.\\n\\nPreventive measures include physical or social distancing', ' quarantining', ' ventilation of indoor spaces', ' covering coughs and sneezes', ' hand washing', ' and keeping unwashed hands away from the face. The use of face masks or coverings has been recommended in public settings to minimise the risk of transmissions.\\n\\nWhile work is underway to develop drugs that inhibit the virus (and several vaccines for it have been approved and distributed in various countries', ' which have since initiated mass vaccination campaigns)', ' the primary treatment is symptomatic. Management involves the treatment of symptoms', ' supportive care', ' isolation', ' and experimental measures.']\n",
            "37\n",
            "36\n"
          ]
        }
      ]
    },
    {
      "cell_type": "markdown",
      "source": [
        "Words\n"
      ],
      "metadata": {
        "id": "1SEh3wlZ6mE1"
      }
    },
    {
      "cell_type": "code",
      "source": [
        "w=txt.split(' ')\n",
        "print(w,end=\"\\n\")\n"
      ],
      "metadata": {
        "colab": {
          "base_uri": "https://localhost:8080/"
        },
        "id": "m-02wg0z6o2P",
        "outputId": "8203ddcc-ed2b-406b-e700-785c118188f2"
      },
      "execution_count": 25,
      "outputs": [
        {
          "output_type": "stream",
          "name": "stdout",
          "text": [
            "['Coronavirus', 'disease', '2019', '(COVID-19)', 'is', 'a', 'contagious', 'disease', 'caused', 'by', 'severe', 'acute', 'respiratory', 'syndrome', 'coronavirus', '2', '(SARS-CoV-2).', 'The', 'first', 'known', 'case', 'was', 'identified', 'in', 'Wuhan,', 'China,', 'in', 'December', '2019.[7]', 'The', 'disease', 'has', 'since', 'spread', 'worldwide,', 'leading', 'to', 'an', 'ongoing', 'pandemic.[8]\\n\\nSymptoms', 'of', 'COVID-19', 'are', 'variable,', 'but', 'often', 'include', 'fever,[9]', 'cough,', 'headache,[10]', 'fatigue,', 'breathing', 'difficulties,', 'and', 'loss', 'of', 'smell', 'and', 'taste.[11][12][13]', 'Symptoms', 'may', 'begin', 'one', 'to', 'fourteen', 'days', 'after', 'exposure', 'to', 'the', 'virus.', 'At', 'least', 'a', 'third', 'of', 'people', 'who', 'are', 'infected', 'do', 'not', 'develop', 'noticeable', 'symptoms.[14]', 'Of', 'those', 'people', 'who', 'develop', 'symptoms', 'noticeable', 'enough', 'to', 'be', 'classed', 'as', 'patients,', 'most', '(81%)', 'develop', 'mild', 'to', 'moderate', 'symptoms', '(up', 'to', 'mild', 'pneumonia),', 'while', '14%', 'develop', 'severe', 'symptoms', '(dyspnea,', 'hypoxia,', 'or', 'more', 'than', '50%', 'lung', 'involvement', 'on', 'imaging),', 'and', '5%', 'suffer', 'critical', 'symptoms', '(respiratory', 'failure,', 'shock,', 'or', 'multi-organ', 'dysfunction).[15]', 'Older', 'people', 'are', 'at', 'a', 'higher', 'risk', 'of', 'developing', 'severe', 'symptoms.', 'Some', 'people', 'continue', 'to', 'experience', 'a', 'range', 'of', 'effects', '(long', 'COVID)', 'for', 'months', 'after', 'recovery,', 'and', 'damage', 'to', 'organs', 'has', 'been', 'observed.[16]', 'Multi-year', 'studies', 'are', 'underway', 'to', 'further', 'investigate', 'the', 'long-term', 'effects', 'of', 'the', 'disease.[16]\\n\\nCOVID-19', 'transmits', 'when', 'people', 'breathe', 'in', 'air', 'contaminated', 'by', 'droplets', 'and', 'small', 'airborne', 'particles', 'containing', 'the', 'virus.', 'The', 'risk', 'of', 'breathing', 'these', 'in', 'is', 'highest', 'when', 'people', 'are', 'in', 'close', 'proximity,', 'but', 'they', 'can', 'be', 'inhaled', 'over', 'longer', 'distances,', 'particularly', 'indoors.', 'Transmission', 'can', 'also', 'occur', 'if', 'splashed', 'or', 'sprayed', 'with', 'contaminated', 'fluids', 'in', 'the', 'eyes,', 'nose', 'or', 'mouth,', 'and,', 'rarely,', 'via', 'contaminated', 'surfaces.', 'People', 'remain', 'contagious', 'for', 'up', 'to', '20', 'days,', 'and', 'can', 'spread', 'the', 'virus', 'even', 'if', 'they', 'do', 'not', 'develop', 'symptoms.[17][18]\\n\\nSeveral', 'testing', 'methods', 'have', 'been', 'developed', 'to', 'diagnose', 'the', 'disease.', 'The', 'standard', 'diagnostic', 'method', 'is', 'by', 'detection', 'of', 'the', \"virus'\", 'nucleic', 'acid', 'by', 'real-time', 'reverse', 'transcription', 'polymerase', 'chain', 'reaction', '(rRT-PCR),', 'transcription-mediated', 'amplification', '(TMA),', 'or', 'by', 'reverse', 'transcription', 'loop-mediated', 'isothermal', 'amplification', '(RT-LAMP)', 'from', 'a', 'nasopharyngeal', 'swab.\\n\\nPreventive', 'measures', 'include', 'physical', 'or', 'social', 'distancing,', 'quarantining,', 'ventilation', 'of', 'indoor', 'spaces,', 'covering', 'coughs', 'and', 'sneezes,', 'hand', 'washing,', 'and', 'keeping', 'unwashed', 'hands', 'away', 'from', 'the', 'face.', 'The', 'use', 'of', 'face', 'masks', 'or', 'coverings', 'has', 'been', 'recommended', 'in', 'public', 'settings', 'to', 'minimise', 'the', 'risk', 'of', 'transmissions.\\n\\nWhile', 'work', 'is', 'underway', 'to', 'develop', 'drugs', 'that', 'inhibit', 'the', 'virus', '(and', 'several', 'vaccines', 'for', 'it', 'have', 'been', 'approved', 'and', 'distributed', 'in', 'various', 'countries,', 'which', 'have', 'since', 'initiated', 'mass', 'vaccination', 'campaigns),', 'the', 'primary', 'treatment', 'is', 'symptomatic.', 'Management', 'involves', 'the', 'treatment', 'of', 'symptoms,', 'supportive', 'care,', 'isolation,', 'and', 'experimental', 'measures.']\n"
          ]
        }
      ]
    },
    {
      "cell_type": "code",
      "source": [
        "for i in w:\n",
        "  print(i)\n"
      ],
      "metadata": {
        "colab": {
          "base_uri": "https://localhost:8080/"
        },
        "id": "bgKt2Tfm6_yD",
        "outputId": "a2d3ebcb-0f2b-45fd-ffd7-bf46b9d80b95"
      },
      "execution_count": 26,
      "outputs": [
        {
          "output_type": "stream",
          "name": "stdout",
          "text": [
            "Coronavirus\n",
            "disease\n",
            "2019\n",
            "(COVID-19)\n",
            "is\n",
            "a\n",
            "contagious\n",
            "disease\n",
            "caused\n",
            "by\n",
            "severe\n",
            "acute\n",
            "respiratory\n",
            "syndrome\n",
            "coronavirus\n",
            "2\n",
            "(SARS-CoV-2).\n",
            "The\n",
            "first\n",
            "known\n",
            "case\n",
            "was\n",
            "identified\n",
            "in\n",
            "Wuhan,\n",
            "China,\n",
            "in\n",
            "December\n",
            "2019.[7]\n",
            "The\n",
            "disease\n",
            "has\n",
            "since\n",
            "spread\n",
            "worldwide,\n",
            "leading\n",
            "to\n",
            "an\n",
            "ongoing\n",
            "pandemic.[8]\n",
            "\n",
            "Symptoms\n",
            "of\n",
            "COVID-19\n",
            "are\n",
            "variable,\n",
            "but\n",
            "often\n",
            "include\n",
            "fever,[9]\n",
            "cough,\n",
            "headache,[10]\n",
            "fatigue,\n",
            "breathing\n",
            "difficulties,\n",
            "and\n",
            "loss\n",
            "of\n",
            "smell\n",
            "and\n",
            "taste.[11][12][13]\n",
            "Symptoms\n",
            "may\n",
            "begin\n",
            "one\n",
            "to\n",
            "fourteen\n",
            "days\n",
            "after\n",
            "exposure\n",
            "to\n",
            "the\n",
            "virus.\n",
            "At\n",
            "least\n",
            "a\n",
            "third\n",
            "of\n",
            "people\n",
            "who\n",
            "are\n",
            "infected\n",
            "do\n",
            "not\n",
            "develop\n",
            "noticeable\n",
            "symptoms.[14]\n",
            "Of\n",
            "those\n",
            "people\n",
            "who\n",
            "develop\n",
            "symptoms\n",
            "noticeable\n",
            "enough\n",
            "to\n",
            "be\n",
            "classed\n",
            "as\n",
            "patients,\n",
            "most\n",
            "(81%)\n",
            "develop\n",
            "mild\n",
            "to\n",
            "moderate\n",
            "symptoms\n",
            "(up\n",
            "to\n",
            "mild\n",
            "pneumonia),\n",
            "while\n",
            "14%\n",
            "develop\n",
            "severe\n",
            "symptoms\n",
            "(dyspnea,\n",
            "hypoxia,\n",
            "or\n",
            "more\n",
            "than\n",
            "50%\n",
            "lung\n",
            "involvement\n",
            "on\n",
            "imaging),\n",
            "and\n",
            "5%\n",
            "suffer\n",
            "critical\n",
            "symptoms\n",
            "(respiratory\n",
            "failure,\n",
            "shock,\n",
            "or\n",
            "multi-organ\n",
            "dysfunction).[15]\n",
            "Older\n",
            "people\n",
            "are\n",
            "at\n",
            "a\n",
            "higher\n",
            "risk\n",
            "of\n",
            "developing\n",
            "severe\n",
            "symptoms.\n",
            "Some\n",
            "people\n",
            "continue\n",
            "to\n",
            "experience\n",
            "a\n",
            "range\n",
            "of\n",
            "effects\n",
            "(long\n",
            "COVID)\n",
            "for\n",
            "months\n",
            "after\n",
            "recovery,\n",
            "and\n",
            "damage\n",
            "to\n",
            "organs\n",
            "has\n",
            "been\n",
            "observed.[16]\n",
            "Multi-year\n",
            "studies\n",
            "are\n",
            "underway\n",
            "to\n",
            "further\n",
            "investigate\n",
            "the\n",
            "long-term\n",
            "effects\n",
            "of\n",
            "the\n",
            "disease.[16]\n",
            "\n",
            "COVID-19\n",
            "transmits\n",
            "when\n",
            "people\n",
            "breathe\n",
            "in\n",
            "air\n",
            "contaminated\n",
            "by\n",
            "droplets\n",
            "and\n",
            "small\n",
            "airborne\n",
            "particles\n",
            "containing\n",
            "the\n",
            "virus.\n",
            "The\n",
            "risk\n",
            "of\n",
            "breathing\n",
            "these\n",
            "in\n",
            "is\n",
            "highest\n",
            "when\n",
            "people\n",
            "are\n",
            "in\n",
            "close\n",
            "proximity,\n",
            "but\n",
            "they\n",
            "can\n",
            "be\n",
            "inhaled\n",
            "over\n",
            "longer\n",
            "distances,\n",
            "particularly\n",
            "indoors.\n",
            "Transmission\n",
            "can\n",
            "also\n",
            "occur\n",
            "if\n",
            "splashed\n",
            "or\n",
            "sprayed\n",
            "with\n",
            "contaminated\n",
            "fluids\n",
            "in\n",
            "the\n",
            "eyes,\n",
            "nose\n",
            "or\n",
            "mouth,\n",
            "and,\n",
            "rarely,\n",
            "via\n",
            "contaminated\n",
            "surfaces.\n",
            "People\n",
            "remain\n",
            "contagious\n",
            "for\n",
            "up\n",
            "to\n",
            "20\n",
            "days,\n",
            "and\n",
            "can\n",
            "spread\n",
            "the\n",
            "virus\n",
            "even\n",
            "if\n",
            "they\n",
            "do\n",
            "not\n",
            "develop\n",
            "symptoms.[17][18]\n",
            "\n",
            "Several\n",
            "testing\n",
            "methods\n",
            "have\n",
            "been\n",
            "developed\n",
            "to\n",
            "diagnose\n",
            "the\n",
            "disease.\n",
            "The\n",
            "standard\n",
            "diagnostic\n",
            "method\n",
            "is\n",
            "by\n",
            "detection\n",
            "of\n",
            "the\n",
            "virus'\n",
            "nucleic\n",
            "acid\n",
            "by\n",
            "real-time\n",
            "reverse\n",
            "transcription\n",
            "polymerase\n",
            "chain\n",
            "reaction\n",
            "(rRT-PCR),\n",
            "transcription-mediated\n",
            "amplification\n",
            "(TMA),\n",
            "or\n",
            "by\n",
            "reverse\n",
            "transcription\n",
            "loop-mediated\n",
            "isothermal\n",
            "amplification\n",
            "(RT-LAMP)\n",
            "from\n",
            "a\n",
            "nasopharyngeal\n",
            "swab.\n",
            "\n",
            "Preventive\n",
            "measures\n",
            "include\n",
            "physical\n",
            "or\n",
            "social\n",
            "distancing,\n",
            "quarantining,\n",
            "ventilation\n",
            "of\n",
            "indoor\n",
            "spaces,\n",
            "covering\n",
            "coughs\n",
            "and\n",
            "sneezes,\n",
            "hand\n",
            "washing,\n",
            "and\n",
            "keeping\n",
            "unwashed\n",
            "hands\n",
            "away\n",
            "from\n",
            "the\n",
            "face.\n",
            "The\n",
            "use\n",
            "of\n",
            "face\n",
            "masks\n",
            "or\n",
            "coverings\n",
            "has\n",
            "been\n",
            "recommended\n",
            "in\n",
            "public\n",
            "settings\n",
            "to\n",
            "minimise\n",
            "the\n",
            "risk\n",
            "of\n",
            "transmissions.\n",
            "\n",
            "While\n",
            "work\n",
            "is\n",
            "underway\n",
            "to\n",
            "develop\n",
            "drugs\n",
            "that\n",
            "inhibit\n",
            "the\n",
            "virus\n",
            "(and\n",
            "several\n",
            "vaccines\n",
            "for\n",
            "it\n",
            "have\n",
            "been\n",
            "approved\n",
            "and\n",
            "distributed\n",
            "in\n",
            "various\n",
            "countries,\n",
            "which\n",
            "have\n",
            "since\n",
            "initiated\n",
            "mass\n",
            "vaccination\n",
            "campaigns),\n",
            "the\n",
            "primary\n",
            "treatment\n",
            "is\n",
            "symptomatic.\n",
            "Management\n",
            "involves\n",
            "the\n",
            "treatment\n",
            "of\n",
            "symptoms,\n",
            "supportive\n",
            "care,\n",
            "isolation,\n",
            "and\n",
            "experimental\n",
            "measures.\n"
          ]
        }
      ]
    },
    {
      "cell_type": "code",
      "source": [
        "print(len(w))"
      ],
      "metadata": {
        "id": "6XpMC2s07Dai"
      },
      "execution_count": null,
      "outputs": []
    }
  ]
}