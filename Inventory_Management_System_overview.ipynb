{
  "nbformat": 4,
  "nbformat_minor": 0,
  "metadata": {
    "colab": {
      "provenance": [],
      "mount_file_id": "1xGZB-SRCr-lEqmVV-AuXJunw7Ugdh5ni",
      "authorship_tag": "ABX9TyOTUjcyzQkIJvOj6iHHz8RJ",
      "include_colab_link": true
    },
    "kernelspec": {
      "name": "python3",
      "display_name": "Python 3"
    },
    "language_info": {
      "name": "python"
    }
  },
  "cells": [
    {
      "cell_type": "markdown",
      "metadata": {
        "id": "view-in-github",
        "colab_type": "text"
      },
      "source": [
        "<a href=\"https://colab.research.google.com/github/prashanthkumarprashanth/Data-Science/blob/main/Inventory_Management_System_overview.ipynb\" target=\"_parent\"><img src=\"https://colab.research.google.com/assets/colab-badge.svg\" alt=\"Open In Colab\"/></a>"
      ]
    },
    {
      "cell_type": "code",
      "source": [
        "fd = open('Inventory.txt','w')\n",
        "fd.close()"
      ],
      "metadata": {
        "id": "Vh5909jt7MVt"
      },
      "execution_count": 2,
      "outputs": []
    },
    {
      "cell_type": "markdown",
      "source": [
        "#Inventory management system just using text data"
      ],
      "metadata": {
        "id": "jB5r-9XHsgTq"
      }
    },
    {
      "cell_type": "markdown",
      "source": [
        "Using Python\n"
      ],
      "metadata": {
        "id": "4p_Ie1LFssr1"
      }
    },
    {
      "cell_type": "markdown",
      "source": [
        "#Product Details\n",
        "\n",
        "\n",
        "1.   Product id\n",
        "2.   Name of the Product\n",
        "\n",
        "1.   Price of the Product\n",
        "2.   Quantity"
      ],
      "metadata": {
        "id": "ngtoBAWYshZ-"
      }
    },
    {
      "cell_type": "code",
      "source": [
        "import time\n",
        "\n",
        "# Reading the Inventory\n",
        "fd = open('Inventory.txt','r')\n",
        "products = fd.read().split('\\n')\n",
        "fd.close()\n",
        "\n",
        "# Taking User Input\n",
        "ui_username = input(\"Enter your Name: \")\n",
        "ui_phone    = input(\"Enter your Phone No: \")\n",
        "ui_mail     = input(\"Enter your Mail: \")\n",
        "ui_prod_id  = input(\"Enter product ID: \")\n",
        "ui_prod_qn  = input(\"Enter product Quantity: \")\n",
        "\n",
        "updated_product_lst = []\n",
        "\n",
        "# Going through each product detail\n",
        "for product in products:\n",
        "\n",
        "    prod_details = product.split(',')\n",
        "\n",
        "    if(prod_details[0] == ui_prod_id):\n",
        "    # Checking if product exists or not\n",
        "\n",
        "        if (int(ui_prod_qn) <= int(prod_details[3])):\n",
        "        # If we're having enough quantity\n",
        "\n",
        "            print(\"-----------------------------\")\n",
        "            print(\"Product Name     : \", prod_details[1])\n",
        "            print(\"Price            : \", prod_details[2])\n",
        "            print(\"Quantity         : \", ui_prod_qn)\n",
        "            print(\"-----------------------------\")\n",
        "            print(\"Billing Amount   : \", int(ui_prod_qn) * int(prod_details[2]))\n",
        "            print(\"-----------------------------\")\n",
        "\n",
        "            # Updating Inventory list\n",
        "            prod_details[3] = str(int(prod_details[3]) - int(ui_prod_qn))\n",
        "\n",
        "            # Generating Sales in Sales.txt\n",
        "            fd = open(\"Sales.txt\",'a')\n",
        "            sales_detail = ui_username +\",\"+ ui_phone +\",\"+ ui_mail +\",\"+prod_details[1] +\",\"+ ui_prod_id +\",\"+ ui_prod_qn +\",\"+ str(int(ui_prod_qn) * int(prod_details[2]))+\",\"+time.ctime()+ \"\\n\"\n",
        "            fd.write(sales_detail)\n",
        "            fd.close()\n",
        "\n",
        "        else:\n",
        "        # If we're not having enough quantity\n",
        "\n",
        "            print(\"Sorry, We're not having enought quantity.\")\n",
        "            print(\"We're having only\",prod_details[3],'quantity.')\n",
        "            print(\"Would you like to purchase it?\")\n",
        "\n",
        "            ch = input(\"Press Y/N: \")\n",
        "\n",
        "            if (ch == 'Y' or ch == 'y'):\n",
        "            # If you want to purchase with remaining quantity\n",
        "\n",
        "                print(\"-----------------------------\")\n",
        "                print(\"Product Name     : \", prod_details[1])\n",
        "                print(\"Price            : \", prod_details[2])\n",
        "                print(\"Quantity         : \", prod_details[3])\n",
        "                print(\"-----------------------------\")\n",
        "                print(\"Billing Amount   : \", int(prod_details[3]) * int(prod_details[2]))\n",
        "                print(\"-----------------------------\")\n",
        "\n",
        "                # Updating Inventory list\n",
        "                prod_details[3] = '0'\n",
        "\n",
        "            else:\n",
        "                print(\"Thanks\")\n",
        "\n",
        "    # Updating my Inventory List\n",
        "    updated_product_lst.append(prod_details)\n",
        "\n",
        "\n",
        "\n",
        "lst = []\n",
        "\n",
        "# Updating my Inventory String\n",
        "for i in updated_product_lst:\n",
        "    prod = i[0] +\",\"+  i[1] +\",\"+ i[2] +\",\"+ i[3] + '\\n'\n",
        "    lst.append(prod)\n",
        "\n",
        "\n",
        "lst[-1] = lst[-1][:-1]\n",
        "\n",
        "\n",
        "# Updating Inventory File\n",
        "fd = open('Inventory.txt','w')\n",
        "\n",
        "for i in lst:\n",
        "    fd.write(i)\n",
        "\n",
        "fd.close()\n",
        "\n",
        "print(\"-------------------\")\n",
        "print(\"Inventory Updated\")"
      ],
      "metadata": {
        "colab": {
          "base_uri": "https://localhost:8080/"
        },
        "id": "Q8JotrqBukpV",
        "outputId": "577f6c11-ed2c-483a-ca18-12ca93cdc3cd"
      },
      "execution_count": 8,
      "outputs": [
        {
          "output_type": "stream",
          "name": "stdout",
          "text": [
            "Enter your Name: prashanth\n",
            "Enter your Phone No: 6302553292\n",
            "Enter your Mail: gnldvnv@gmail.com\n",
            "Enter product ID: 2\n",
            "Enter product Quantity: 5\n",
            "-----------------------------\n",
            "Product Name     :  Milky Bar\n",
            "Price            :  5\n",
            "Quantity         :  5\n",
            "-----------------------------\n",
            "Billing Amount   :  25\n",
            "-----------------------------\n",
            "-------------------\n",
            "Inventory Updated\n"
          ]
        }
      ]
    },
    {
      "cell_type": "code",
      "source": [],
      "metadata": {
        "id": "-waJHEZo7KUs"
      },
      "execution_count": null,
      "outputs": []
    },
    {
      "cell_type": "code",
      "source": [],
      "metadata": {
        "colab": {
          "base_uri": "https://localhost:8080/",
          "height": 35
        },
        "id": "RZ9HYZnKu6fN",
        "outputId": "65e83673-4617-4e00-aeca-2589108deaa7"
      },
      "execution_count": null,
      "outputs": [
        {
          "output_type": "execute_result",
          "data": {
            "text/plain": [
              "'1,5 star ,5,10\\n2,milky Bar,4,100\\n3,Biscut,4,23 \\n4,chocolate,7,23'"
            ],
            "application/vnd.google.colaboratory.intrinsic+json": {
              "type": "string"
            }
          },
          "metadata": {},
          "execution_count": 27
        }
      ]
    }
  ]
}