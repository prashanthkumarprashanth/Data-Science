{
  "nbformat": 4,
  "nbformat_minor": 0,
  "metadata": {
    "colab": {
      "provenance": [],
      "mount_file_id": "134gda1DsG5klhGDwzRj2ETOxvh79sMk_",
      "authorship_tag": "ABX9TyPv9wlU/XH4NPCa5Rz8czOy",
      "include_colab_link": true
    },
    "kernelspec": {
      "name": "python3",
      "display_name": "Python 3"
    },
    "language_info": {
      "name": "python"
    }
  },
  "cells": [
    {
      "cell_type": "markdown",
      "metadata": {
        "id": "view-in-github",
        "colab_type": "text"
      },
      "source": [
        "<a href=\"https://colab.research.google.com/github/prashanthkumarprashanth/Data-Science/blob/main/writing_data_to_text_file.ipynb\" target=\"_parent\"><img src=\"https://colab.research.google.com/assets/colab-badge.svg\" alt=\"Open In Colab\"/></a>"
      ]
    },
    {
      "cell_type": "markdown",
      "source": [
        "# **Read File using python**"
      ],
      "metadata": {
        "id": "h6wjX1LRdQoy"
      }
    },
    {
      "cell_type": "code",
      "execution_count": 18,
      "metadata": {
        "id": "ROkkYQGsY-wi"
      },
      "outputs": [],
      "source": [
        "df=open('data.txt','a')\n",
        "df.write(\"hello , this is prashanth doing the python\\n\")\n",
        "df.close()"
      ]
    },
    {
      "cell_type": "markdown",
      "source": [
        "# Write large abount data in paragraph from user input\n"
      ],
      "metadata": {
        "id": "R5KLzYN2daFx"
      }
    },
    {
      "cell_type": "code",
      "source": [
        "df1=open('da.txt','a')\n",
        "txt=input(\"enter the text: \")\n",
        "txt=txt+'\\n'\n",
        "df1.write(txt)\n",
        "df1.close()"
      ],
      "metadata": {
        "colab": {
          "base_uri": "https://localhost:8080/"
        },
        "id": "7Afkz9oZbpUf",
        "outputId": "fb2ba56b-a458-4fff-dccd-5610d106269c"
      },
      "execution_count": 31,
      "outputs": [
        {
          "name": "stdout",
          "output_type": "stream",
          "text": [
            "enter the text: why\n"
          ]
        }
      ]
    },
    {
      "cell_type": "markdown",
      "source": [],
      "metadata": {
        "id": "690hEV3zc917"
      }
    }
  ]
}