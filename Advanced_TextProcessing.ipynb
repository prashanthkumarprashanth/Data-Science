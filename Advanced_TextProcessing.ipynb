{
  "nbformat": 4,
  "nbformat_minor": 0,
  "metadata": {
    "colab": {
      "provenance": [],
      "mount_file_id": "11OzIJRzrblN1ScqNvMWNXUpGvUks4nTV",
      "authorship_tag": "ABX9TyP7J8nUjGiewnrQRzhRcgSw",
      "include_colab_link": true
    },
    "kernelspec": {
      "name": "python3",
      "display_name": "Python 3"
    },
    "language_info": {
      "name": "python"
    }
  },
  "cells": [
    {
      "cell_type": "markdown",
      "metadata": {
        "id": "view-in-github",
        "colab_type": "text"
      },
      "source": [
        "<a href=\"https://colab.research.google.com/github/prashanthkumarprashanth/Data-Science/blob/main/Advanced_TextProcessing.ipynb\" target=\"_parent\"><img src=\"https://colab.research.google.com/assets/colab-badge.svg\" alt=\"Open In Colab\"/></a>"
      ]
    },
    {
      "cell_type": "markdown",
      "source": [
        "**Text processing with python**\n"
      ],
      "metadata": {
        "id": "c7Ql0OeP3g-c"
      }
    },
    {
      "cell_type": "code",
      "source": [
        "#Reading the txt file\n",
        "fd=open('covid.txt','r')\n",
        "txt=fd.read()\n",
        "fd.close()"
      ],
      "metadata": {
        "id": "x5cmoBh53kTY"
      },
      "execution_count": 46,
      "outputs": []
    },
    {
      "cell_type": "code",
      "source": [
        "#printing the un processed text data\n",
        "txt"
      ],
      "metadata": {
        "colab": {
          "base_uri": "https://localhost:8080/",
          "height": 191
        },
        "id": "GyFkAOiv5L1d",
        "outputId": "070a012d-0dde-4c6b-9f64-27657cc89f72"
      },
      "execution_count": 47,
      "outputs": [
        {
          "output_type": "execute_result",
          "data": {
            "text/plain": [
              "\"Coronavirus disease 2019 (COVID-19) is a contagious disease caused by severe acute respiratory syndrome coronavirus 2 (SARS-CoV-2). The first known case was identified in Wuhan, China, in December 2019.[7] The disease has since spread worldwide, leading to an ongoing pandemic.[8]\\n\\nSymptoms of COVID-19 are variable, but often include fever,[9] cough, headache,[10] fatigue, breathing difficulties, and loss of smell and taste.[11][12][13] Symptoms may begin one to fourteen days after exposure to the virus. At least a third of people who are infected do not develop noticeable symptoms.[14] Of those people who develop symptoms noticeable enough to be classed as patients, most (81%) develop mild to moderate symptoms (up to mild pneumonia), while 14% develop severe symptoms (dyspnea, hypoxia, or more than 50% lung involvement on imaging), and 5% suffer critical symptoms (respiratory failure, shock, or multi-organ dysfunction).[15] Older people are at a higher risk of developing severe symptoms. Some people continue to experience a range of effects (long COVID) for months after recovery, and damage to organs has been observed.[16] Multi-year studies are underway to further investigate the long-term effects of the disease.[16]\\n\\nCOVID-19 transmits when people breathe in air contaminated by droplets and small airborne particles containing the virus. The risk of breathing these in is highest when people are in close proximity, but they can be inhaled over longer distances, particularly indoors. Transmission can also occur if splashed or sprayed with contaminated fluids in the eyes, nose or mouth, and, rarely, via contaminated surfaces. People remain contagious for up to 20 days, and can spread the virus even if they do not develop symptoms.[17][18]\\n\\nSeveral testing methods have been developed to diagnose the disease. The standard diagnostic method is by detection of the virus' nucleic acid by real-time reverse transcription polymerase chain reaction (rRT-PCR), transcription-mediated amplification (TMA), or by reverse transcription loop-mediated isothermal amplification (RT-LAMP) from a nasopharyngeal swab.\\n\\nPreventive measures include physical or social distancing, quarantining, ventilation of indoor spaces, covering coughs and sneezes, hand washing, and keeping unwashed hands away from the face. The use of face masks or coverings has been recommended in public settings to minimise the risk of transmissions.\\n\\nWhile work is underway to develop drugs that inhibit the virus (and several vaccines for it have been approved and distributed in various countries, which have since initiated mass vaccination campaigns), the primary treatment is symptomatic. Management involves the treatment of symptoms, supportive care, isolation, and experimental measures.\""
            ],
            "application/vnd.google.colaboratory.intrinsic+json": {
              "type": "string"
            }
          },
          "metadata": {},
          "execution_count": 47
        }
      ]
    },
    {
      "cell_type": "markdown",
      "source": [
        "#paragraphs\n"
      ],
      "metadata": {
        "id": "J2YWzvaV5cPG"
      }
    },
    {
      "cell_type": "code",
      "source": [
        "p=txt.split('\\n\\n')\n",
        "print(p)\n",
        "print(type(p))\n",
        "print(len(p))"
      ],
      "metadata": {
        "colab": {
          "base_uri": "https://localhost:8080/"
        },
        "id": "BRrrARGP5n2q",
        "outputId": "2858c005-fa5d-47d4-b4a9-e844fb138f41"
      },
      "execution_count": 48,
      "outputs": [
        {
          "output_type": "stream",
          "name": "stdout",
          "text": [
            "['Coronavirus disease 2019 (COVID-19) is a contagious disease caused by severe acute respiratory syndrome coronavirus 2 (SARS-CoV-2). The first known case was identified in Wuhan, China, in December 2019.[7] The disease has since spread worldwide, leading to an ongoing pandemic.[8]', 'Symptoms of COVID-19 are variable, but often include fever,[9] cough, headache,[10] fatigue, breathing difficulties, and loss of smell and taste.[11][12][13] Symptoms may begin one to fourteen days after exposure to the virus. At least a third of people who are infected do not develop noticeable symptoms.[14] Of those people who develop symptoms noticeable enough to be classed as patients, most (81%) develop mild to moderate symptoms (up to mild pneumonia), while 14% develop severe symptoms (dyspnea, hypoxia, or more than 50% lung involvement on imaging), and 5% suffer critical symptoms (respiratory failure, shock, or multi-organ dysfunction).[15] Older people are at a higher risk of developing severe symptoms. Some people continue to experience a range of effects (long COVID) for months after recovery, and damage to organs has been observed.[16] Multi-year studies are underway to further investigate the long-term effects of the disease.[16]', 'COVID-19 transmits when people breathe in air contaminated by droplets and small airborne particles containing the virus. The risk of breathing these in is highest when people are in close proximity, but they can be inhaled over longer distances, particularly indoors. Transmission can also occur if splashed or sprayed with contaminated fluids in the eyes, nose or mouth, and, rarely, via contaminated surfaces. People remain contagious for up to 20 days, and can spread the virus even if they do not develop symptoms.[17][18]', \"Several testing methods have been developed to diagnose the disease. The standard diagnostic method is by detection of the virus' nucleic acid by real-time reverse transcription polymerase chain reaction (rRT-PCR), transcription-mediated amplification (TMA), or by reverse transcription loop-mediated isothermal amplification (RT-LAMP) from a nasopharyngeal swab.\", 'Preventive measures include physical or social distancing, quarantining, ventilation of indoor spaces, covering coughs and sneezes, hand washing, and keeping unwashed hands away from the face. The use of face masks or coverings has been recommended in public settings to minimise the risk of transmissions.', 'While work is underway to develop drugs that inhibit the virus (and several vaccines for it have been approved and distributed in various countries, which have since initiated mass vaccination campaigns), the primary treatment is symptomatic. Management involves the treatment of symptoms, supportive care, isolation, and experimental measures.']\n",
            "<class 'list'>\n",
            "6\n"
          ]
        }
      ]
    },
    {
      "cell_type": "markdown",
      "source": [
        " **Lines**"
      ],
      "metadata": {
        "id": "OJUAyBcs53Yt"
      }
    },
    {
      "cell_type": "code",
      "source": [
        "l=txt.split(',')\n",
        "print(l)\n",
        "print(len(l))\n",
        "print(len(l[:-1]))"
      ],
      "metadata": {
        "colab": {
          "base_uri": "https://localhost:8080/"
        },
        "id": "d8veCnaz6CsV",
        "outputId": "178d1eee-b169-4e4a-8820-271edadbf892"
      },
      "execution_count": 49,
      "outputs": [
        {
          "output_type": "stream",
          "name": "stdout",
          "text": [
            "['Coronavirus disease 2019 (COVID-19) is a contagious disease caused by severe acute respiratory syndrome coronavirus 2 (SARS-CoV-2). The first known case was identified in Wuhan', ' China', ' in December 2019.[7] The disease has since spread worldwide', ' leading to an ongoing pandemic.[8]\\n\\nSymptoms of COVID-19 are variable', ' but often include fever', '[9] cough', ' headache', '[10] fatigue', ' breathing difficulties', ' and loss of smell and taste.[11][12][13] Symptoms may begin one to fourteen days after exposure to the virus. At least a third of people who are infected do not develop noticeable symptoms.[14] Of those people who develop symptoms noticeable enough to be classed as patients', ' most (81%) develop mild to moderate symptoms (up to mild pneumonia)', ' while 14% develop severe symptoms (dyspnea', ' hypoxia', ' or more than 50% lung involvement on imaging)', ' and 5% suffer critical symptoms (respiratory failure', ' shock', ' or multi-organ dysfunction).[15] Older people are at a higher risk of developing severe symptoms. Some people continue to experience a range of effects (long COVID) for months after recovery', ' and damage to organs has been observed.[16] Multi-year studies are underway to further investigate the long-term effects of the disease.[16]\\n\\nCOVID-19 transmits when people breathe in air contaminated by droplets and small airborne particles containing the virus. The risk of breathing these in is highest when people are in close proximity', ' but they can be inhaled over longer distances', ' particularly indoors. Transmission can also occur if splashed or sprayed with contaminated fluids in the eyes', ' nose or mouth', ' and', ' rarely', ' via contaminated surfaces. People remain contagious for up to 20 days', \" and can spread the virus even if they do not develop symptoms.[17][18]\\n\\nSeveral testing methods have been developed to diagnose the disease. The standard diagnostic method is by detection of the virus' nucleic acid by real-time reverse transcription polymerase chain reaction (rRT-PCR)\", ' transcription-mediated amplification (TMA)', ' or by reverse transcription loop-mediated isothermal amplification (RT-LAMP) from a nasopharyngeal swab.\\n\\nPreventive measures include physical or social distancing', ' quarantining', ' ventilation of indoor spaces', ' covering coughs and sneezes', ' hand washing', ' and keeping unwashed hands away from the face. The use of face masks or coverings has been recommended in public settings to minimise the risk of transmissions.\\n\\nWhile work is underway to develop drugs that inhibit the virus (and several vaccines for it have been approved and distributed in various countries', ' which have since initiated mass vaccination campaigns)', ' the primary treatment is symptomatic. Management involves the treatment of symptoms', ' supportive care', ' isolation', ' and experimental measures.']\n",
            "37\n",
            "36\n"
          ]
        }
      ]
    },
    {
      "cell_type": "markdown",
      "source": [
        "Words\n"
      ],
      "metadata": {
        "id": "1SEh3wlZ6mE1"
      }
    },
    {
      "cell_type": "code",
      "source": [
        "w=txt.split(' ')\n",
        "print(w,end=\"\\n\")\n"
      ],
      "metadata": {
        "colab": {
          "base_uri": "https://localhost:8080/"
        },
        "id": "m-02wg0z6o2P",
        "outputId": "dad2d5ca-4357-43ac-870b-e9d1fef8e37e"
      },
      "execution_count": 50,
      "outputs": [
        {
          "output_type": "stream",
          "name": "stdout",
          "text": [
            "['Coronavirus', 'disease', '2019', '(COVID-19)', 'is', 'a', 'contagious', 'disease', 'caused', 'by', 'severe', 'acute', 'respiratory', 'syndrome', 'coronavirus', '2', '(SARS-CoV-2).', 'The', 'first', 'known', 'case', 'was', 'identified', 'in', 'Wuhan,', 'China,', 'in', 'December', '2019.[7]', 'The', 'disease', 'has', 'since', 'spread', 'worldwide,', 'leading', 'to', 'an', 'ongoing', 'pandemic.[8]\\n\\nSymptoms', 'of', 'COVID-19', 'are', 'variable,', 'but', 'often', 'include', 'fever,[9]', 'cough,', 'headache,[10]', 'fatigue,', 'breathing', 'difficulties,', 'and', 'loss', 'of', 'smell', 'and', 'taste.[11][12][13]', 'Symptoms', 'may', 'begin', 'one', 'to', 'fourteen', 'days', 'after', 'exposure', 'to', 'the', 'virus.', 'At', 'least', 'a', 'third', 'of', 'people', 'who', 'are', 'infected', 'do', 'not', 'develop', 'noticeable', 'symptoms.[14]', 'Of', 'those', 'people', 'who', 'develop', 'symptoms', 'noticeable', 'enough', 'to', 'be', 'classed', 'as', 'patients,', 'most', '(81%)', 'develop', 'mild', 'to', 'moderate', 'symptoms', '(up', 'to', 'mild', 'pneumonia),', 'while', '14%', 'develop', 'severe', 'symptoms', '(dyspnea,', 'hypoxia,', 'or', 'more', 'than', '50%', 'lung', 'involvement', 'on', 'imaging),', 'and', '5%', 'suffer', 'critical', 'symptoms', '(respiratory', 'failure,', 'shock,', 'or', 'multi-organ', 'dysfunction).[15]', 'Older', 'people', 'are', 'at', 'a', 'higher', 'risk', 'of', 'developing', 'severe', 'symptoms.', 'Some', 'people', 'continue', 'to', 'experience', 'a', 'range', 'of', 'effects', '(long', 'COVID)', 'for', 'months', 'after', 'recovery,', 'and', 'damage', 'to', 'organs', 'has', 'been', 'observed.[16]', 'Multi-year', 'studies', 'are', 'underway', 'to', 'further', 'investigate', 'the', 'long-term', 'effects', 'of', 'the', 'disease.[16]\\n\\nCOVID-19', 'transmits', 'when', 'people', 'breathe', 'in', 'air', 'contaminated', 'by', 'droplets', 'and', 'small', 'airborne', 'particles', 'containing', 'the', 'virus.', 'The', 'risk', 'of', 'breathing', 'these', 'in', 'is', 'highest', 'when', 'people', 'are', 'in', 'close', 'proximity,', 'but', 'they', 'can', 'be', 'inhaled', 'over', 'longer', 'distances,', 'particularly', 'indoors.', 'Transmission', 'can', 'also', 'occur', 'if', 'splashed', 'or', 'sprayed', 'with', 'contaminated', 'fluids', 'in', 'the', 'eyes,', 'nose', 'or', 'mouth,', 'and,', 'rarely,', 'via', 'contaminated', 'surfaces.', 'People', 'remain', 'contagious', 'for', 'up', 'to', '20', 'days,', 'and', 'can', 'spread', 'the', 'virus', 'even', 'if', 'they', 'do', 'not', 'develop', 'symptoms.[17][18]\\n\\nSeveral', 'testing', 'methods', 'have', 'been', 'developed', 'to', 'diagnose', 'the', 'disease.', 'The', 'standard', 'diagnostic', 'method', 'is', 'by', 'detection', 'of', 'the', \"virus'\", 'nucleic', 'acid', 'by', 'real-time', 'reverse', 'transcription', 'polymerase', 'chain', 'reaction', '(rRT-PCR),', 'transcription-mediated', 'amplification', '(TMA),', 'or', 'by', 'reverse', 'transcription', 'loop-mediated', 'isothermal', 'amplification', '(RT-LAMP)', 'from', 'a', 'nasopharyngeal', 'swab.\\n\\nPreventive', 'measures', 'include', 'physical', 'or', 'social', 'distancing,', 'quarantining,', 'ventilation', 'of', 'indoor', 'spaces,', 'covering', 'coughs', 'and', 'sneezes,', 'hand', 'washing,', 'and', 'keeping', 'unwashed', 'hands', 'away', 'from', 'the', 'face.', 'The', 'use', 'of', 'face', 'masks', 'or', 'coverings', 'has', 'been', 'recommended', 'in', 'public', 'settings', 'to', 'minimise', 'the', 'risk', 'of', 'transmissions.\\n\\nWhile', 'work', 'is', 'underway', 'to', 'develop', 'drugs', 'that', 'inhibit', 'the', 'virus', '(and', 'several', 'vaccines', 'for', 'it', 'have', 'been', 'approved', 'and', 'distributed', 'in', 'various', 'countries,', 'which', 'have', 'since', 'initiated', 'mass', 'vaccination', 'campaigns),', 'the', 'primary', 'treatment', 'is', 'symptomatic.', 'Management', 'involves', 'the', 'treatment', 'of', 'symptoms,', 'supportive', 'care,', 'isolation,', 'and', 'experimental', 'measures.']\n"
          ]
        }
      ]
    },
    {
      "cell_type": "code",
      "source": [
        "\n"
      ],
      "metadata": {
        "id": "bgKt2Tfm6_yD"
      },
      "execution_count": 37,
      "outputs": []
    },
    {
      "cell_type": "code",
      "source": [
        "print(len(w))\n"
      ],
      "metadata": {
        "colab": {
          "base_uri": "https://localhost:8080/"
        },
        "id": "6XpMC2s07Dai",
        "outputId": "239db592-6efa-46dd-c7d1-1b5235f06c2a"
      },
      "execution_count": 51,
      "outputs": [
        {
          "output_type": "stream",
          "name": "stdout",
          "text": [
            "398\n"
          ]
        }
      ]
    },
    {
      "cell_type": "markdown",
      "source": [
        "**Advanced** **Text** **Processing**"
      ],
      "metadata": {
        "id": "4m11sMeEDH7f"
      }
    },
    {
      "cell_type": "code",
      "source": [
        "txt=txt.replace('\\n\\n',' ')\n",
        "txt"
      ],
      "metadata": {
        "colab": {
          "base_uri": "https://localhost:8080/",
          "height": 191
        },
        "id": "i9EEQMt3DOfz",
        "outputId": "b885787e-ea32-4f2d-e570-faa1203f4abb"
      },
      "execution_count": 52,
      "outputs": [
        {
          "output_type": "execute_result",
          "data": {
            "text/plain": [
              "\"Coronavirus disease 2019 (COVID-19) is a contagious disease caused by severe acute respiratory syndrome coronavirus 2 (SARS-CoV-2). The first known case was identified in Wuhan, China, in December 2019.[7] The disease has since spread worldwide, leading to an ongoing pandemic.[8] Symptoms of COVID-19 are variable, but often include fever,[9] cough, headache,[10] fatigue, breathing difficulties, and loss of smell and taste.[11][12][13] Symptoms may begin one to fourteen days after exposure to the virus. At least a third of people who are infected do not develop noticeable symptoms.[14] Of those people who develop symptoms noticeable enough to be classed as patients, most (81%) develop mild to moderate symptoms (up to mild pneumonia), while 14% develop severe symptoms (dyspnea, hypoxia, or more than 50% lung involvement on imaging), and 5% suffer critical symptoms (respiratory failure, shock, or multi-organ dysfunction).[15] Older people are at a higher risk of developing severe symptoms. Some people continue to experience a range of effects (long COVID) for months after recovery, and damage to organs has been observed.[16] Multi-year studies are underway to further investigate the long-term effects of the disease.[16] COVID-19 transmits when people breathe in air contaminated by droplets and small airborne particles containing the virus. The risk of breathing these in is highest when people are in close proximity, but they can be inhaled over longer distances, particularly indoors. Transmission can also occur if splashed or sprayed with contaminated fluids in the eyes, nose or mouth, and, rarely, via contaminated surfaces. People remain contagious for up to 20 days, and can spread the virus even if they do not develop symptoms.[17][18] Several testing methods have been developed to diagnose the disease. The standard diagnostic method is by detection of the virus' nucleic acid by real-time reverse transcription polymerase chain reaction (rRT-PCR), transcription-mediated amplification (TMA), or by reverse transcription loop-mediated isothermal amplification (RT-LAMP) from a nasopharyngeal swab. Preventive measures include physical or social distancing, quarantining, ventilation of indoor spaces, covering coughs and sneezes, hand washing, and keeping unwashed hands away from the face. The use of face masks or coverings has been recommended in public settings to minimise the risk of transmissions. While work is underway to develop drugs that inhibit the virus (and several vaccines for it have been approved and distributed in various countries, which have since initiated mass vaccination campaigns), the primary treatment is symptomatic. Management involves the treatment of symptoms, supportive care, isolation, and experimental measures.\""
            ],
            "application/vnd.google.colaboratory.intrinsic+json": {
              "type": "string"
            }
          },
          "metadata": {},
          "execution_count": 52
        }
      ]
    },
    {
      "cell_type": "code",
      "source": [
        "for i in range(7,82):\n",
        "  n= \"[\" + str(i) + \"]\"\n",
        "  txt=txt.replace('n',\"\")\n",
        "txt\n",
        "\n"
      ],
      "metadata": {
        "colab": {
          "base_uri": "https://localhost:8080/",
          "height": 191
        },
        "id": "os7TqJ4tEF7Q",
        "outputId": "31731d72-bb37-483d-f69e-4b66e9c32158"
      },
      "execution_count": 63,
      "outputs": [
        {
          "output_type": "execute_result",
          "data": {
            "text/plain": [
              "\"Coro avirus disease 2019 (COVID-19) is a co tagious disease caused by severe acute respiratory sy drome coro avirus 2 (SARS-CoV-2). The first k ow  case was ide tified i  Wuha , Chi a, i  December 2019. The disease has si ce spread worldwide, leadi g to a  o goi g pa demic. Symptoms of COVID-19 are variable, but ofte  i clude fever, cough, headache, fatigue, breathi g difficulties, a d loss of smell a d taste. Symptoms may begi  o e to fourtee  days after exposure to the virus. At least a third of people who are i fected do  ot develop  oticeable symptoms. Of those people who develop symptoms  oticeable e ough to be classed as patie ts, most (81) develop mild to moderate symptoms (up to mild p eumo ia), while 14 develop severe symptoms (dysp ea, hypoxia, or more tha  50 lu g i volveme t o  imagi g), a d 5 suffer critical symptoms (respiratory failure, shock, or multi-orga  dysfu ctio ). Older people are at a higher risk of developi g severe symptoms. Some people co ti ue to experie ce a ra ge of effects (lo g COVID) for mo ths after recovery, a d damage to orga s has bee  observed. Multi-year studies are u derway to further i vestigate the lo g-term effects of the disease. COVID-19 tra smits whe  people breathe i  air co tami ated by droplets a d small airbor e particles co tai i g the virus. The risk of breathi g these i  is highest whe  people are i  close proximity, but they ca  be i haled over lo ger dista ces, particularly i doors. Tra smissio  ca  also occur if splashed or sprayed with co tami ated fluids i  the eyes,  ose or mouth, a d, rarely, via co tami ated surfaces. People remai  co tagious for up to 20 days, a d ca  spread the virus eve  if they do  ot develop symptoms. Several testi g methods have bee  developed to diag ose the disease. The sta dard diag ostic method is by detectio  of the virus'  ucleic acid by real-time reverse tra scriptio  polymerase chai  reactio  (rRT-PCR), tra scriptio -mediated amplificatio  (TMA), or by reverse tra scriptio  loop-mediated isothermal amplificatio  (RT-LAMP) from a  asophary geal swab. Preve tive measures i clude physical or social dista ci g, quara ti i g, ve tilatio  of i door spaces, coveri g coughs a d s eezes, ha d washi g, a d keepi g u washed ha ds away from the face. The use of face masks or coveri gs has bee  recomme ded i  public setti gs to mi imise the risk of tra smissio s. While work is u derway to develop drugs that i hibit the virus (a d several vacci es for it have bee  approved a d distributed i  various cou tries, which have si ce i itiated mass vacci atio  campaig s), the primary treatme t is symptomatic. Ma ageme t i volves the treatme t of symptoms, supportive care, isolatio , a d experime tal measures.\""
            ],
            "application/vnd.google.colaboratory.intrinsic+json": {
              "type": "string"
            }
          },
          "metadata": {},
          "execution_count": 63
        }
      ]
    },
    {
      "cell_type": "code",
      "source": [
        "for i in \"!@#$%^\":\n",
        "    txt = txt.replace(i , \"\")"
      ],
      "metadata": {
        "id": "qRUM4W2VFXXF"
      },
      "execution_count": 61,
      "outputs": []
    },
    {
      "cell_type": "code",
      "source": [
        "txt"
      ],
      "metadata": {
        "colab": {
          "base_uri": "https://localhost:8080/",
          "height": 191
        },
        "id": "Kjrq7h4AFZZx",
        "outputId": "a8f61f5d-07a6-485b-a818-1145457ad317"
      },
      "execution_count": 64,
      "outputs": [
        {
          "output_type": "execute_result",
          "data": {
            "text/plain": [
              "\"Coro avirus disease 2019 (COVID-19) is a co tagious disease caused by severe acute respiratory sy drome coro avirus 2 (SARS-CoV-2). The first k ow  case was ide tified i  Wuha , Chi a, i  December 2019. The disease has si ce spread worldwide, leadi g to a  o goi g pa demic. Symptoms of COVID-19 are variable, but ofte  i clude fever, cough, headache, fatigue, breathi g difficulties, a d loss of smell a d taste. Symptoms may begi  o e to fourtee  days after exposure to the virus. At least a third of people who are i fected do  ot develop  oticeable symptoms. Of those people who develop symptoms  oticeable e ough to be classed as patie ts, most (81) develop mild to moderate symptoms (up to mild p eumo ia), while 14 develop severe symptoms (dysp ea, hypoxia, or more tha  50 lu g i volveme t o  imagi g), a d 5 suffer critical symptoms (respiratory failure, shock, or multi-orga  dysfu ctio ). Older people are at a higher risk of developi g severe symptoms. Some people co ti ue to experie ce a ra ge of effects (lo g COVID) for mo ths after recovery, a d damage to orga s has bee  observed. Multi-year studies are u derway to further i vestigate the lo g-term effects of the disease. COVID-19 tra smits whe  people breathe i  air co tami ated by droplets a d small airbor e particles co tai i g the virus. The risk of breathi g these i  is highest whe  people are i  close proximity, but they ca  be i haled over lo ger dista ces, particularly i doors. Tra smissio  ca  also occur if splashed or sprayed with co tami ated fluids i  the eyes,  ose or mouth, a d, rarely, via co tami ated surfaces. People remai  co tagious for up to 20 days, a d ca  spread the virus eve  if they do  ot develop symptoms. Several testi g methods have bee  developed to diag ose the disease. The sta dard diag ostic method is by detectio  of the virus'  ucleic acid by real-time reverse tra scriptio  polymerase chai  reactio  (rRT-PCR), tra scriptio -mediated amplificatio  (TMA), or by reverse tra scriptio  loop-mediated isothermal amplificatio  (RT-LAMP) from a  asophary geal swab. Preve tive measures i clude physical or social dista ci g, quara ti i g, ve tilatio  of i door spaces, coveri g coughs a d s eezes, ha d washi g, a d keepi g u washed ha ds away from the face. The use of face masks or coveri gs has bee  recomme ded i  public setti gs to mi imise the risk of tra smissio s. While work is u derway to develop drugs that i hibit the virus (a d several vacci es for it have bee  approved a d distributed i  various cou tries, which have si ce i itiated mass vacci atio  campaig s), the primary treatme t is symptomatic. Ma ageme t i volves the treatme t of symptoms, supportive care, isolatio , a d experime tal measures.\""
            ],
            "application/vnd.google.colaboratory.intrinsic+json": {
              "type": "string"
            }
          },
          "metadata": {},
          "execution_count": 64
        }
      ]
    }
  ]
}